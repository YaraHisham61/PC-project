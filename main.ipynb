{
 "cells": [
  {
   "cell_type": "code",
   "execution_count": 29,
   "id": "528c0c04",
   "metadata": {},
   "outputs": [],
   "source": [
    "from sqlglot import parse_one\n",
    "from sqlglot.planner import *\n",
    "from sqlglot.optimizer import optimize\n",
    "from sqlglot.expressions import *\n"
   ]
  },
  {
   "cell_type": "code",
   "execution_count": 40,
   "id": "19862091",
   "metadata": {},
   "outputs": [],
   "source": [
    "sql = \"\"\"\n",
    "select s.name, ad.address, count(*) as total_count from Students s, Addresses ad \n",
    "where s.student_id = ad.student_id and s.year > 3 order by s.name Asc;\n",
    "\"\"\"\n",
    "parsed = parse_one(sql)\n",
    "optimized = optimize(parsed)\n",
    "plan = Plan(optimized)"
   ]
  },
  {
   "cell_type": "code",
   "execution_count": 41,
   "id": "b828a163",
   "metadata": {},
   "outputs": [
    {
     "data": {
      "text/plain": [
       "[- Scan: ad (2060794747680)\n",
       "     Context:\n",
       "       Source: \"addresses\" AS \"ad\"\n",
       "     Projections:,\n",
       " - Scan: s (2060815953472)\n",
       "     Context:\n",
       "       Source: \"students\" AS \"s\"\n",
       "     Projections:,\n",
       " - Join: s (2060815949296)\n",
       "     Context:\n",
       "       Source: s\n",
       "       ad: INNER\n",
       "       Key: \"ad\".\"student_id\"\n",
       "       On: TRUE AND TRUE\n",
       "     Projections:\n",
       "     Condition: \"s\".\"year\" > 3\n",
       "     Dependencies:\n",
       "     - Scan: ad (2060794747680)\n",
       "       Context:\n",
       "         Source: \"addresses\" AS \"ad\"\n",
       "       Projections:\n",
       "     - Scan: s (2060815953472)\n",
       "       Context:\n",
       "         Source: \"students\" AS \"s\"\n",
       "       Projections:,\n",
       " - Aggregate: s (2060815954624)\n",
       "     Context:\n",
       "       Aggregations:\n",
       "         - COUNT(\"_a_0\") AS \"total_count\"\n",
       "       Operands:\n",
       "         - * AS _a_0\n",
       "     Projections:\n",
       "     Dependencies:\n",
       "     - Join: s (2060815949296)\n",
       "       Context:\n",
       "         Source: s\n",
       "         ad: INNER\n",
       "         Key: \"ad\".\"student_id\"\n",
       "         On: TRUE AND TRUE\n",
       "       Projections:\n",
       "       Condition: \"s\".\"year\" > 3\n",
       "       Dependencies:\n",
       "       - Scan: ad (2060794747680)\n",
       "         Context:\n",
       "           Source: \"addresses\" AS \"ad\"\n",
       "         Projections:\n",
       "       - Scan: s (2060815953472)\n",
       "         Context:\n",
       "           Source: \"students\" AS \"s\"\n",
       "         Projections:,\n",
       " - Sort: s (2060815945024)\n",
       "     Context:\n",
       "       Key:\n",
       "         - \"s\".\"name\"\n",
       "     Projections:\n",
       "       - \"s\".\"name\" AS \"name\"\n",
       "       - \"ad\".\"address\" AS \"address\"\n",
       "       - \"s\".\"total_count\"\n",
       "     Dependencies:\n",
       "     - Aggregate: s (2060815954624)\n",
       "       Context:\n",
       "         Aggregations:\n",
       "           - COUNT(\"_a_0\") AS \"total_count\"\n",
       "         Operands:\n",
       "           - * AS _a_0\n",
       "       Projections:\n",
       "       Dependencies:\n",
       "       - Join: s (2060815949296)\n",
       "         Context:\n",
       "           Source: s\n",
       "           ad: INNER\n",
       "           Key: \"ad\".\"student_id\"\n",
       "           On: TRUE AND TRUE\n",
       "         Projections:\n",
       "         Condition: \"s\".\"year\" > 3\n",
       "         Dependencies:\n",
       "         - Scan: ad (2060794747680)\n",
       "           Context:\n",
       "             Source: \"addresses\" AS \"ad\"\n",
       "           Projections:\n",
       "         - Scan: s (2060815953472)\n",
       "           Context:\n",
       "             Source: \"students\" AS \"s\"\n",
       "           Projections:]"
      ]
     },
     "execution_count": 41,
     "metadata": {},
     "output_type": "execute_result"
    }
   ],
   "source": [
    "# Traverse in topological order\n",
    "def topological_traverse(plan):\n",
    "    dag = plan.dag\n",
    "    visited = set()\n",
    "    result = []\n",
    "\n",
    "    def visit(step):\n",
    "        if step in visited:\n",
    "            return\n",
    "        visited.add(step)\n",
    "        for dep in dag[step]:\n",
    "            visit(dep)\n",
    "        result.append(step)\n",
    "\n",
    "    visit(plan.root)\n",
    "    return result\n",
    "topological_traverse(plan)"
   ]
  },
  {
   "cell_type": "code",
   "execution_count": null,
   "id": "d246fa5a",
   "metadata": {},
   "outputs": [
    {
     "name": "stdout",
     "output_type": "stream",
     "text": [
      "[{'operation': 'SELECT', 'column': 'ad'}, {'operation': 'SELECT', 'column': 's'}]\n"
     ]
    }
   ],
   "source": [
    "import sqlglot.planner\n",
    "\n",
    "\n",
    "def topological_traverse_to_plan(plan):\n",
    "    dag = plan.dag\n",
    "    visited = set()\n",
    "    result = []\n",
    "\n",
    "    def visit(step):\n",
    "        if step in visited:\n",
    "            return\n",
    "        visited.add(step)\n",
    "        for dep in dag[step]:\n",
    "            visit(dep)\n",
    "        result.append(step)\n",
    "\n",
    "    visit(plan.root)\n",
    "    execution_plan = []\n",
    "    for step in result:\n",
    "        if isinstance(step, Scan):\n",
    "            execution_plan.append({\"operation\": \"SELECT\", \"column\": step.name})\n",
    "        if isinstance(step, Join):\n",
    "            execution_plan.append({\"operation\": \"JOIN\", \"left\": step.source_name, \"right\": step.alias_column_names})\n",
    "    return execution_plan\n",
    "\n",
    "\n",
    "execution_plan = topological_traverse_to_plan(plan)\n",
    "print(execution_plan)"
   ]
  },
  {
   "cell_type": "code",
   "execution_count": 10,
   "id": "642085cc",
   "metadata": {},
   "outputs": [],
   "source": [
    "from pyspark.sql import SparkSession\n",
    "spark = SparkSession.builder.appName(\"PySpark SQL on UCI Datasets\").getOrCreate()\n",
    "spark.read.csv(\"Address.csv\", header=True, inferSchema=True).createOrReplaceTempView(\"Addresses\")\n",
    "spark.read.csv(\"Student.csv\", header=True, inferSchema=True).createOrReplaceTempView(\"Students\")\n"
   ]
  },
  {
   "cell_type": "code",
   "execution_count": 30,
   "id": "bcc5555d",
   "metadata": {},
   "outputs": [
    {
     "name": "stdout",
     "output_type": "stream",
     "text": [
      "'Sort ['s.name ASC NULLS FIRST], true\n",
      "+- 'Aggregate ['s.name, 'a.address], ['s.name, 'a.address, 'COUNT(1) AS count#377]\n",
      "   +- 'Filter (('s.id = 'a.id) AND ('s.year > 3))\n",
      "      +- 'Join Inner\n",
      "         :- 'SubqueryAlias s\n",
      "         :  +- 'UnresolvedRelation [Students], [], false\n",
      "         +- 'SubqueryAlias a\n",
      "            +- 'UnresolvedRelation [Addresses], [], false\n",
      "\n"
     ]
    }
   ],
   "source": [
    "query = spark.sql('''\n",
    "SELECT s.name, a.address, COUNT(*) as count\n",
    "FROM Students s, Addresses a\n",
    "WHERE s.id = a.id AND s.year > 3\n",
    "GROUP BY s.name, a.address\n",
    "ORDER BY s.name ASC;\n",
    "            ''')\n",
    "# query.show()\n",
    "logical = query._jdf.queryExecution().logical()\n",
    "print(logical)"
   ]
  },
  {
   "cell_type": "code",
   "execution_count": null,
   "id": "293af432",
   "metadata": {},
   "outputs": [],
   "source": []
  }
 ],
 "metadata": {
  "kernelspec": {
   "display_name": "Python 3",
   "language": "python",
   "name": "python3"
  },
  "language_info": {
   "codemirror_mode": {
    "name": "ipython",
    "version": 3
   },
   "file_extension": ".py",
   "mimetype": "text/x-python",
   "name": "python",
   "nbconvert_exporter": "python",
   "pygments_lexer": "ipython3",
   "version": "3.12.10"
  }
 },
 "nbformat": 4,
 "nbformat_minor": 5
}
